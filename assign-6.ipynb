{
 "cells": [
  {
   "cell_type": "code",
   "execution_count": 1,
   "metadata": {
    "collapsed": false
   },
   "outputs": [
    {
     "name": "stdout",
     "output_type": "stream",
     "text": [
      "The Reverse of this String is-  uhsnamiH\n"
     ]
    }
   ],
   "source": [
    "a = input(\"enter the string- \")\n",
    "b = a[::-1]\n",
    "\n",
    "print(\"The Reverse of this String is- \",b )\n"
   ]
  },
  {
   "cell_type": "code",
   "execution_count": null,
   "metadata": {
    "collapsed": false,
    "is_executing": true
   },
   "outputs": [],
   "source": [
    "#to reverse a number through maths\n",
    "a = int(input(\"enter the number- \"))\n",
    "b = 0\n",
    "while a>0:\n",
    "    c = a%10\n",
    "    b = b*10 + c\n",
    "    a = a//10           \n",
    "print(\"The Reverse of this Number is- \",b )     "
   ]
  },
  {
   "cell_type": "code",
   "execution_count": null,
   "metadata": {
    "collapsed": false
   },
   "outputs": [],
   "source": []
  }
 ],
 "metadata": {
  "kernelspec": {
   "display_name": "Python 3",
   "language": "python",
   "name": "python3"
  },
  "language_info": {
   "codemirror_mode": {
    "name": "ipython",
    "version": 3
   },
   "file_extension": ".py",
   "mimetype": "text/x-python",
   "name": "python",
   "nbconvert_exporter": "python",
   "pygments_lexer": "ipython3",
   "version": "3.11.6"
  }
 },
 "nbformat": 4,
 "nbformat_minor": 2
}
