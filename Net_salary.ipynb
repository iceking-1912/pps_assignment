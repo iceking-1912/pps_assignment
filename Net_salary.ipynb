{
 "cells": [
  {
   "cell_type": "markdown",
   "id": "3665b8a3",
   "metadata": {},
   "source": [
    "# Net Salary "
   ]
  },
  {
   "cell_type": "code",
   "execution_count": 22,
   "id": "07612bb9",
   "metadata": {},
   "outputs": [
    {
     "name": "stdout",
     "output_type": "stream",
     "text": [
      "input gross pay30000\n",
      "The Basic Pay is  30000.0\n",
      "The HRA is  3000.0\n",
      "The TA is  1500.0\n",
      "The Gross salary is  34500.0\n",
      "The PT is  690.0\n",
      "The Net salary is  33810.0\n"
     ]
    }
   ],
   "source": [
    "basicpay = float(input(\"input gross pay\"))\n",
    "print(\"The Basic Pay is \",basicpay)\n",
    "HRA =basicpay * 0.1\n",
    "print(\"The HRA is \",HRA)\n",
    "TA =basicpay * 0.05  \n",
    "print(\"The TA is \",TA)\n",
    "gross =basicpay + HRA + TA \n",
    "print(\"The Gross salary is \",gross)\n",
    "PT = gross * 0.02\n",
    "print(\"The PT is \",PT)\n",
    "netpay = gross - PT\n",
    "print(\"The Net salary is \",netpay)"
   ]
  }
 ],
 "metadata": {
  "kernelspec": {
   "display_name": "Python 3 (ipykernel)",
   "language": "python",
   "name": "python3"
  },
  "language_info": {
   "codemirror_mode": {
    "name": "ipython",
    "version": 3
   },
   "file_extension": ".py",
   "mimetype": "text/x-python",
   "name": "python",
   "nbconvert_exporter": "python",
   "pygments_lexer": "ipython3",
   "version": "3.9.13"
  }
 },
 "nbformat": 4,
 "nbformat_minor": 5
}
