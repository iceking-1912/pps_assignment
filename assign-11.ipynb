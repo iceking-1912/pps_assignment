{
 "cells": [
  {
   "cell_type": "code",
   "execution_count": 7,
   "metadata": {},
   "outputs": [
    {
     "name": "stdout",
     "output_type": "stream",
     "text": [
      "69375264518412791569717596408719849622400832900866\n"
     ]
    }
   ],
   "source": [
    "import random as r\n",
    "\n",
    "lofa = (0,1,2,3,4,5,6,7,8,9)\n",
    "l = int(input(\"Length Of The Random Numbe- \"))\n",
    "r_l = \"\"\n",
    "for i in range(l):\n",
    "    a  = r.choice(lofa)\n",
    "    a = str(a)\n",
    "    r_l += a\n",
    "    \n",
    "print(r_l)"
   ]
  }
 ],
 "metadata": {
  "kernelspec": {
   "display_name": "Python 3",
   "language": "python",
   "name": "python3"
  },
  "language_info": {
   "codemirror_mode": {
    "name": "ipython",
    "version": 3
   },
   "file_extension": ".py",
   "mimetype": "text/x-python",
   "name": "python",
   "nbconvert_exporter": "python",
   "pygments_lexer": "ipython3",
   "version": "3.12.0"
  }
 },
 "nbformat": 4,
 "nbformat_minor": 2
}
