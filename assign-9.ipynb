{
 "cells": [
  {
   "cell_type": "markdown",
   "metadata": {},
   "source": [
    "Length"
   ]
  },
  {
   "cell_type": "code",
   "execution_count": 1,
   "metadata": {},
   "outputs": [
    {
     "name": "stdout",
     "output_type": "stream",
     "text": [
      "The length of the string is:  9\n"
     ]
    }
   ],
   "source": [
    "a = input(\"Enter a String: \")\n",
    "print(\"The length of the string is: \", len(a))"
   ]
  },
  {
   "cell_type": "markdown",
   "metadata": {},
   "source": [
    "Reverser"
   ]
  },
  {
   "cell_type": "code",
   "execution_count": 2,
   "metadata": {},
   "outputs": [
    {
     "name": "stdout",
     "output_type": "stream",
     "text": [
      "The Reverse of this String is-  uhsnamih\n"
     ]
    }
   ],
   "source": [
    "a = input(\"enter the string- \")\n",
    "b = a[::-1]\n",
    "\n",
    "print(\"The Reverse of this String is- \",b )"
   ]
  },
  {
   "cell_type": "markdown",
   "metadata": {},
   "source": [
    "String Length Equality Checker"
   ]
  },
  {
   "cell_type": "code",
   "execution_count": 4,
   "metadata": {},
   "outputs": [
    {
     "name": "stdout",
     "output_type": "stream",
     "text": [
      "length of this strings are Equal\n"
     ]
    }
   ],
   "source": [
    "a = input(\"enter the string- \")\n",
    "b = input(\"enter the string- \")\n",
    "la = len(a)\n",
    "lb = len(b)\n",
    "if len(a) == len(b):\n",
    "    print(\"Length of this strings are Equal\")\n",
    "else:\n",
    "    print(\"Length of this strings are not Equal\")"
   ]
  },
  {
   "cell_type": "markdown",
   "metadata": {},
   "source": [
    "Palindrome "
   ]
  },
  {
   "cell_type": "code",
   "execution_count": 3,
   "metadata": {},
   "outputs": [
    {
     "name": "stdout",
     "output_type": "stream",
     "text": [
      "This String is a Palindrome\n"
     ]
    }
   ],
   "source": [
    "a = input(\"enter the string- \")\n",
    "b = a[::-1]\n",
    "if a == b :\n",
    "    print(\"This String is a Palindrome\")\n",
    "else:\n",
    "    print(\"This is Not a Palindrome\")"
   ]
  },
  {
   "cell_type": "markdown",
   "metadata": {},
   "source": [
    "SubString in a String"
   ]
  },
  {
   "cell_type": "code",
   "execution_count": 5,
   "metadata": {},
   "outputs": [
    {
     "name": "stdout",
     "output_type": "stream",
     "text": [
      "This Sub-String does not Exist in String\n"
     ]
    }
   ],
   "source": [
    "a = input(\"Enter The Main String -\")\n",
    "b = input(\"Enter The Sub-String- \")\n",
    "c = a .find(b,0,len(a))\n",
    "if (c!=1):\n",
    "    print(\"This Sub-String Exist in String\")\n",
    "else:\n",
    "    print(\"This Sub-String does not Exist in String\")\n",
    "    "
   ]
  },
  {
   "cell_type": "markdown",
   "metadata": {},
   "source": [
    "String Sammer Checker(gooood)"
   ]
  },
  {
   "cell_type": "code",
   "execution_count": null,
   "metadata": {},
   "outputs": [],
   "source": [
    "a = input(\"enter the string- \")\n",
    "b = input(\"enter the string- \")\n",
    "\n",
    "if a == b:\n",
    "    print(\"This Strings are Same \")\n",
    "else:\n",
    "    print(\"They are not Same\")\n",
    "\n"
   ]
  },
  {
   "cell_type": "markdown",
   "metadata": {},
   "source": [
    "String Checker(booring) "
   ]
  },
  {
   "cell_type": "code",
   "execution_count": null,
   "metadata": {},
   "outputs": [],
   "source": [
    "a = input(\"enter the string- \")\n",
    "b = input(\"enter the string- \")\n",
    "la = len(a)\n",
    "lb = len(b)\n",
    "c = 0\n",
    "if len(a) == len(b):\n",
    "    for i in range(la):\n",
    "        if  (a[i] == b[i]):\n",
    "            c+=1\n",
    "        else:\n",
    "            break\n",
    "\n",
    "if c == len(a):\n",
    "    print(\"This Strings are Same \")\n",
    "else:\n",
    "    print(\"They are not Same\")"
   ]
  }
 ],
 "metadata": {
  "kernelspec": {
   "display_name": "Python 3",
   "language": "python",
   "name": "python3"
  },
  "language_info": {
   "codemirror_mode": {
    "name": "ipython",
    "version": 3
   },
   "file_extension": ".py",
   "mimetype": "text/x-python",
   "name": "python",
   "nbconvert_exporter": "python",
   "pygments_lexer": "ipython3",
   "version": "3.11.6"
  }
 },
 "nbformat": 4,
 "nbformat_minor": 2
}
