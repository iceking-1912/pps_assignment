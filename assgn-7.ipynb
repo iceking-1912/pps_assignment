{
 "cells": [
  {
   "cell_type": "code",
   "execution_count": 1,
   "metadata": {
    "ExecuteTime": {
     "end_time": "2024-02-09T09:59:44.316639400Z",
     "start_time": "2024-02-09T09:59:35.497073500Z"
    }
   },
   "outputs": [
    {
     "name": "stdout",
     "output_type": "stream",
     "text": [
      "Given Number is  10\n",
      "3628800\n"
     ]
    }
   ],
   "source": [
    "import math\n",
    "n = int(input(\"Enter The No.- \"))\n",
    "\n",
    "op = input(\"Operation To perform(sqrt,sq,cube,isprime,!,primefac)- \")\n",
    "print(\"Given Number is \",n)\n",
    "# op = \"primefac\"\n",
    "if op == \"sqrt\":\n",
    "    root = math.sqrt(n)\n",
    "    print(root)\n",
    "elif op == \"sq\":\n",
    "    sq = n ** 2\n",
    "    print(sq)\n",
    "elif op == \"cube\":\n",
    "    cube = n ** 3 \n",
    "    print(cube)\n",
    "elif op == \"isprime\":\n",
    "    a = 9\n",
    "    i = 2\n",
    "    l_f = []\n",
    "    none = []\n",
    "    while i <= a:\n",
    "        if n % i == 0:\n",
    "            l_f.append(i)\n",
    "        i +=1\n",
    "    if l_f == none :\n",
    "        print(\"It is a Prime No.\")\n",
    "    else:\n",
    "        print(\"It is not Prime and can be divide by\",l_f)\n",
    "elif op == \"!\":\n",
    "    facto = math.factorial(n)\n",
    "    print(facto)\n",
    "elif op == \"primefac\":\n",
    "    a = 9\n",
    "    i = 2\n",
    "    l_f = []\n",
    "    none = []\n",
    "    while i <= a:\n",
    "        if n % i == 0:\n",
    "            l_f.append(i)\n",
    "        i +=1\n",
    "    if l_f == none :\n",
    "        print(\"It is a Prime No.\")\n",
    "    else:\n",
    "        print(\"Prime Factors of this no. are\",l_f)"
   ]
  }
 ],
 "metadata": {
  "kernelspec": {
   "display_name": "Python 3",
   "language": "python",
   "name": "python3"
  },
  "language_info": {
   "codemirror_mode": {
    "name": "ipython",
    "version": 3
   },
   "file_extension": ".py",
   "mimetype": "text/x-python",
   "name": "python",
   "nbconvert_exporter": "python",
   "pygments_lexer": "ipython3",
   "version": "3.12.2"
  }
 },
 "nbformat": 4,
 "nbformat_minor": 2
}
