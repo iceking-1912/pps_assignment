{
 "cells": [
  {
   "cell_type": "markdown",
   "id": "bba14f2d",
   "metadata": {},
   "source": [
    "# Energy and Momentum Calculation "
   ]
  },
  {
   "cell_type": "code",
   "execution_count": 8,
   "id": "ecffe0d4",
   "metadata": {},
   "outputs": [
    {
     "name": "stdout",
     "output_type": "stream",
     "text": [
      "Mass of the Object-545\n",
      "velocity of the object- 3523\n",
      "Momentum of the object is  1920035.0 Kgm/s\n",
      "Kenetic Energy of the object is  6764283305.0 Kgm^2/s^2\n"
     ]
    }
   ],
   "source": [
    "mass = float(input(\"Mass of the Object-\"))\n",
    "velocity = float(input(\"velocity of the object- \"))\n",
    "momentum = mass * velocity\n",
    "print(\"Momentum of the object is \",momentum,\"Kgm/s\")\n",
    "energy =  mass * (velocity**2)\n",
    "print(\"Kenetic Energy of the object is \",energy,\"Kgm^2/s^2\")"
   ]
  },
  {
   "cell_type": "code",
   "execution_count": null,
   "id": "4a0b24cc",
   "metadata": {},
   "outputs": [],
   "source": []
  }
 ],
 "metadata": {
  "kernelspec": {
   "display_name": "Python 3 (ipykernel)",
   "language": "python",
   "name": "python3"
  },
  "language_info": {
   "codemirror_mode": {
    "name": "ipython",
    "version": 3
   },
   "file_extension": ".py",
   "mimetype": "text/x-python",
   "name": "python",
   "nbconvert_exporter": "python",
   "pygments_lexer": "ipython3",
   "version": "3.9.13"
  }
 },
 "nbformat": 4,
 "nbformat_minor": 5
}
