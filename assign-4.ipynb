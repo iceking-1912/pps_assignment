{
 "cells": [
  {
   "cell_type": "code",
   "execution_count": 1,
   "metadata": {},
   "outputs": [
    {
     "name": "stdout",
     "output_type": "stream",
     "text": [
      "Odd numbers: [1, 3, 5, 7, 9]\n",
      "Even numbers: [2, 4, 6, 8, 10]\n"
     ]
    }
   ],
   "source": [
    "# Define the list of numbers\n",
    "numbers = [1, 2, 3, 4, 5, 6, 7, 8, 9, 10]\n",
    "\n",
    "# Initialize empty lists for odd and even numbers\n",
    "odd_numbers = []\n",
    "even_numbers = []\n",
    "\n",
    "# Iterate over the list of numbers\n",
    "for num in numbers:\n",
    "    # Check if the number is even\n",
    "    if num % 2 == 0:\n",
    "        # If it's even, append it to the even numbers list\n",
    "        even_numbers.append(num)\n",
    "    else:\n",
    "        # If it's not even (i.e., it's odd), append it to the odd numbers list\n",
    "        odd_numbers.append(num)\n",
    "\n",
    "# Print the lists of odd and even numbers\n",
    "print(\"Odd numbers:\", odd_numbers)\n",
    "print(\"Even numbers:\", even_numbers)"
   ]
  }
 ],
 "metadata": {
  "kernelspec": {
   "display_name": "Python 3",
   "language": "python",
   "name": "python3"
  },
  "language_info": {
   "codemirror_mode": {
    "name": "ipython",
    "version": 3
   },
   "file_extension": ".py",
   "mimetype": "text/x-python",
   "name": "python",
   "nbconvert_exporter": "python",
   "pygments_lexer": "ipython3",
   "version": "3.12.2"
  }
 },
 "nbformat": 4,
 "nbformat_minor": 2
}
