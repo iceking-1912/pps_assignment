{
 "cells": [
  {
   "cell_type": "code",
   "execution_count": 1,
   "id": "eaca64b7",
   "metadata": {
    "ExecuteTime": {
     "end_time": "2024-02-09T09:57:34.970396800Z",
     "start_time": "2024-02-09T09:57:22.262656700Z"
    }
   },
   "outputs": [
    {
     "name": "stdout",
     "output_type": "stream",
     "text": [
      "You Fail in Physics \n",
      "You Fail in Enggn. Graphics \n",
      "You Pass in PPS\n",
      "You Pass in BEE\n",
      "You Pass in Maths\n",
      "Your Aggregate  48.0 %\n",
      "Grade: Third Division\n"
     ]
    }
   ],
   "source": [
    "\n",
    "phy_marks = int(input(\"Enter Physics marks:\"))\n",
    "eg_marks = int(input(\"Enter Enggn. Graphics marks:\"))\n",
    "pps_marks = int(input(\"Enter PPS marks:\"))\n",
    "bee_marks = int(input(\"Enter BEE marks:\"))\n",
    "maths_marks = int(input(\"Enter Maths marks:\"))\n",
    "\n",
    "if phy_marks < 40:\n",
    "    print(\"You Fail in Physics \")\n",
    "else :\n",
    "    print(\"You Pass in Physics\")\n",
    "if eg_marks < 40:\n",
    "    print(\"You Fail in Enggn. Graphics \")\n",
    "else :\n",
    "    print(\"You Pass in Enggn. Graphics\") \n",
    "if pps_marks < 40:\n",
    "    print(\"You Fail in PPS\")\n",
    "else :\n",
    "    print(\"You Pass in PPS\")\n",
    "if bee_marks < 40:\n",
    "    print(\"You Fail in BEE\")\n",
    "else :\n",
    "    print(\"You Pass in BEE\")\n",
    "if maths_marks < 40:\n",
    "    print(\"You Fail in Maths\")\n",
    "else :\n",
    "    print(\"You Pass in Maths\")\n",
    "\n",
    "sum = (phy_marks + eg_marks + pps_marks + bee_marks + maths_marks)\n",
    "\n",
    "agg = (sum / 500) * 100\n",
    "\n",
    "print(\"Your Aggregate \",agg,\"%\")\n",
    "\n",
    "if agg >= 75:\n",
    "    print(\"Grade: Distintion\")\n",
    "elif 75 > agg >60 :\n",
    "    print(\"Grade: First Division\")\n",
    "elif 60 > agg > 50 :\n",
    "    print(\"Grade: Second Division\")\n",
    "elif 50 > agg > 40 : \n",
    "    print(\"Grade: Third Division\")\n",
    "else :\n",
    "    print(\"You failed\")\n"
   ]
  }
 ],
 "metadata": {
  "kernelspec": {
   "display_name": "Python 3 (ipykernel)",
   "language": "python",
   "name": "python3"
  },
  "language_info": {
   "codemirror_mode": {
    "name": "ipython",
    "version": 3
   },
   "file_extension": ".py",
   "mimetype": "text/x-python",
   "name": "python",
   "nbconvert_exporter": "python",
   "pygments_lexer": "ipython3",
   "version": "3.9.13"
  }
 },
 "nbformat": 4,
 "nbformat_minor": 5
}
