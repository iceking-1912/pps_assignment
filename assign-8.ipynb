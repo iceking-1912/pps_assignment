{
 "cells": [
  {
   "cell_type": "markdown",
   "metadata": {},
   "source": [
    "Binary to Dicemal Converter"
   ]
  },
  {
   "cell_type": "code",
   "execution_count": 2,
   "metadata": {},
   "outputs": [
    {
     "name": "stdout",
     "output_type": "stream",
     "text": [
      "Decimal equivalent: 1175\n",
      "Decimal equivalent: 5\n"
     ]
    }
   ],
   "source": [
    "binary = input(\"Enter a binary number: \")\n",
    "decimal = int(binary, 2)\n",
    "print(\"Decimal equivalent:\", decimal)\n",
    "\n"
   ]
  },
  {
   "cell_type": "markdown",
   "metadata": {},
   "source": [
    "Binary to Dicemal Converter (In Detail) "
   ]
  },
  {
   "cell_type": "code",
   "execution_count": null,
   "metadata": {},
   "outputs": [],
   "source": [
    "binary = input(\"Enter a binary number: \")\n",
    "\n",
    "decimal = 0\n",
    "power = 0\n",
    "for digit in binary[::-1]:\n",
    "    if digit == '1':\n",
    "        decimal += 2 ** power\n",
    "    power += 1\n",
    "\n",
    "print(\"Decimal equivalent:\", decimal)"
   ]
  }
 ],
 "metadata": {
  "kernelspec": {
   "display_name": "Python 3",
   "language": "python",
   "name": "python3"
  },
  "language_info": {
   "codemirror_mode": {
    "name": "ipython",
    "version": 3
   },
   "file_extension": ".py",
   "mimetype": "text/x-python",
   "name": "python",
   "nbconvert_exporter": "python",
   "pygments_lexer": "ipython3",
   "version": "3.12.0"
  }
 },
 "nbformat": 4,
 "nbformat_minor": 2
}
