{
 "cells": [
  {
   "cell_type": "code",
   "execution_count": 2,
   "metadata": {
    "tags": []
   },
   "outputs": [
    {
     "name": "stdout",
     "output_type": "stream",
     "text": [
      "1424 is not an Armstrong Number\n"
     ]
    }
   ],
   "source": [
    "num = input(\"Give the Number-\")\n",
    "num_str = str(num)\n",
    "digs = []\n",
    "\n",
    "for digit in num_str:\n",
    "    digs.append(int(digit))\n",
    "    \n",
    "sum = 0\n",
    "for i in digs:\n",
    "    i = i ** 3\n",
    "    sum += i\n",
    "\n",
    "if sum == num :\n",
    "    print(num,\"is an Armstrong Number\")\n",
    "else:\n",
    "    print(num,\"is not an Armstrong Number\")"
   ]
  },
  {
   "cell_type": "code",
   "execution_count": 1,
   "metadata": {},
   "outputs": [
    {
     "name": "stdout",
     "output_type": "stream",
     "text": [
      "Konsa Number Check Karna Hai Bol-  9474\n"
     ]
    },
    {
     "name": "stdout",
     "output_type": "stream",
     "text": [
      "Ye to Armstong Hai Bro !!!\n"
     ]
    }
   ],
   "source": [
    "def armstrong_hai_kya(num):\n",
    "    num_str = str(num)\n",
    "    digits = []\n",
    "    \n",
    "    for d in num_str:\n",
    "        digits.append(int(d))\n",
    "    \n",
    "    sum3 = 0\n",
    "    sum4 = 0\n",
    "    \n",
    "    for i3 in digits:\n",
    "        i3 = i3**3\n",
    "        sum3 += i3\n",
    "    for i4 in digits:\n",
    "        i4 = i4 ** 4\n",
    "        sum4 += i4\n",
    "    \n",
    "    if num == sum3 :\n",
    "        print(\"Ye to Armstong Hai Bro !!!\")\n",
    "    elif num == sum4:\n",
    "        print(\"Ye to Armstong Hai Bro !!!\")        \n",
    "    else:\n",
    "        print(\"Nahi Bro ya armstrong nahi hai...\")\n",
    "\n",
    "# n = 1634\n",
    "n = int(input(\"Konsa Number Check Karna Hai Bol- \"))\n",
    "\n",
    "armstrong_hai_kya(n)"
   ]
  }
 ],
 "metadata": {
  "kernelspec": {
   "display_name": "Python 3 (ipykernel)",
   "language": "python",
   "name": "python3"
  },
  "language_info": {
   "codemirror_mode": {
    "name": "ipython",
    "version": 3
   },
   "file_extension": ".py",
   "mimetype": "text/x-python",
   "name": "python",
   "nbconvert_exporter": "python",
   "pygments_lexer": "ipython3",
   "version": "3.10.12"
  }
 },
 "nbformat": 4,
 "nbformat_minor": 4
}
