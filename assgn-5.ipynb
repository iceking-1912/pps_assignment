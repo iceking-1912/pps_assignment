{
 "cells": [
  {
   "cell_type": "code",
   "execution_count": 19,
   "metadata": {},
   "outputs": [],
   "source": [
    "import math\n",
    "op = input(\"Operation To Perform- \")\n",
    "result = 0\n",
    "if op == \"+\":\n",
    "    num1 = int(input(\"First Number- \"))\n",
    "    num2 = int(input(\"Secound Number- \"))\n",
    "    result = num1 + num2\n",
    "    print(result)\n",
    "elif op == \"-\":\n",
    "    num1 = int(input(\"First Number- \"))\n",
    "    num2 = int(input(\"Secound Number- \"))\n",
    "    result = num1 - num2\n",
    "    print(result)\n",
    "elif op == \"*\":\n",
    "    num1 = int(input(\"First Number- \"))\n",
    "    num2 = int(input(\"Secound Number- \"))\n",
    "    result = num1 * num2 \n",
    "    print(result)\n",
    "elif op == \"/\":\n",
    "    num1 = int(input(\"First Number- \"))\n",
    "    num2 = int(input(\"Secound Number- \"))\n",
    "    result = num1 / num2\n",
    "    print(result)\n",
    "elif op == \"**\":\n",
    "    num1 = int(input(\"First Number- \"))\n",
    "    num2 = int(input(\"Secound Number- \"))\n",
    "    result = num1 ** num2 \n",
    "    print(result)\n",
    "elif op == \"!\":\n",
    "    num = int(input(\"First Number- \"))\n",
    "    result = math.factorial(num)\n",
    "    print(result)\n",
    "    # i = 0\n",
    "    # while i < num1:\n",
    "    #     a = 0\n",
    "    #     result += a \n",
    "    #     a += 1\n",
    "    #     i += 1        "
   ]
  },
  {
   "cell_type": "code",
   "execution_count": null,
   "metadata": {},
   "outputs": [],
   "source": [
    "# def calc(num1,num2,op):\n",
    "    "
   ]
  },
  {
   "cell_type": "markdown",
   "metadata": {},
   "source": [
    "alt names for operater\n"
   ]
  }
 ],
 "metadata": {
  "kernelspec": {
   "display_name": "Python 3 (ipykernel)",
   "language": "python",
   "name": "python3"
  },
  "language_info": {
   "codemirror_mode": {
    "name": "ipython",
    "version": 3
   },
   "file_extension": ".py",
   "mimetype": "text/x-python",
   "name": "python",
   "nbconvert_exporter": "python",
   "pygments_lexer": "ipython3",
   "version": "3.10.12"
  }
 },
 "nbformat": 4,
 "nbformat_minor": 4
}
