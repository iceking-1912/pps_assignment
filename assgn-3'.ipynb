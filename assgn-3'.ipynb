{
 "cells": [
  {
   "cell_type": "code",
   "execution_count": 6,
   "id": "94af5d60",
   "metadata": {},
   "outputs": [
    {
     "name": "stdout",
     "output_type": "stream",
     "text": [
      "No. of Natural no.: 3\n",
      "Enter number: 45\n",
      "Enter number: 56\n",
      "Enter number: 78\n",
      "[45, 56, 78]\n",
      "78\n",
      "45\n",
      "179\n",
      "59.666666666666664\n"
     ]
    }
   ],
   "source": [
    "N = int(input(\"No. of Natural no.: \"))\n",
    "num_list = []\n",
    "for i  in range(0,N):\n",
    "    num = int(input(\"Enter number: \"))\n",
    "    num_list.append(num)\n",
    "sum=0\n",
    "for i in range(0,N):\n",
    "    sum+= num_list[i]\n",
    "\n",
    "avg = sum/N\n",
    "\n",
    "print(num_list)\n",
    "print(max(num_list))\n",
    "print(min(num_list))\n",
    "print(sum)\n",
    "print(avg)\n"
   ]
  },
  {
   "cell_type": "code",
   "execution_count": null,
   "id": "7e7c009e",
   "metadata": {},
   "outputs": [],
   "source": []
  }
 ],
 "metadata": {
  "kernelspec": {
   "display_name": "Python 3 (ipykernel)",
   "language": "python",
   "name": "python3"
  },
  "language_info": {
   "codemirror_mode": {
    "name": "ipython",
    "version": 3
   },
   "file_extension": ".py",
   "mimetype": "text/x-python",
   "name": "python",
   "nbconvert_exporter": "python",
   "pygments_lexer": "ipython3",
   "version": "3.9.13"
  }
 },
 "nbformat": 4,
 "nbformat_minor": 5
}
